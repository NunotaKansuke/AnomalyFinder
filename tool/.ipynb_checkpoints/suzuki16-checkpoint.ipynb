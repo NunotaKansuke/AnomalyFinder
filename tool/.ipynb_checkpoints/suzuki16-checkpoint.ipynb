{
 "cells": [
  {
   "cell_type": "code",
   "execution_count": 1,
   "id": "b8bda917",
   "metadata": {},
   "outputs": [],
   "source": [
    "import numpy as np\n",
    "import matplotlib.pyplot as plt\n",
    "import AnomalyFinder as af"
   ]
  },
  {
   "cell_type": "code",
   "execution_count": 2,
   "id": "ea61b053",
   "metadata": {},
   "outputs": [],
   "source": [
    "list_path = \"../suzuki16/list\"\n",
    "list_data = np.genfromtxt(list_path,dtype=str)"
   ]
  },
  {
   "cell_type": "code",
   "execution_count": 7,
   "id": "2acf1026",
   "metadata": {},
   "outputs": [
    {
     "name": "stdout",
     "output_type": "stream",
     "text": [
      "mv suzuki16/MB07192/MOAR_MB07192.dat suzuki16/data &\n",
      "mv suzuki16/MB07308/MOAR_MB07308.dat suzuki16/data &\n",
      "mv suzuki16/MB07379/MOAR_MB07379.dat suzuki16/data &\n",
      "mv suzuki16/MB08288/MOAR_MB08288.dat suzuki16/data &\n",
      "mv suzuki16/MB08379/MOAR_MB08379.dat suzuki16/data &\n",
      "mv suzuki16/MB09266/MOAR_MB09266.dat suzuki16/data &\n",
      "mv suzuki16/MB09319/MOAR_MB09319.dat suzuki16/data &\n",
      "mv suzuki16/MB09387/MOAR_MB09387.dat suzuki16/data &\n",
      "mv suzuki16/MB10117/MOAR_MB10117.dat suzuki16/data &\n",
      "mv suzuki16/MB10328/MOAR_MB10328.dat suzuki16/data &\n",
      "mv suzuki16/MB10353/MOAR_MB10353.dat suzuki16/data &\n",
      "mv suzuki16/MB10477/MOAR_MB10477.dat suzuki16/data &\n",
      "mv suzuki16/MB11028/MOAR_MB11028.dat suzuki16/data &\n",
      "mv suzuki16/MB11197/MOAR_MB11197.dat suzuki16/data &\n",
      "mv suzuki16/MB11262/MOAR_MB11262.dat suzuki16/data &\n",
      "mv suzuki16/MB11291/MOAR_MB11291.dat suzuki16/data &\n",
      "mv suzuki16/MB11322/MOAR_MB11322.dat suzuki16/data &\n",
      "mv suzuki16/MB12006/MOAR_MB12006.dat suzuki16/data &\n",
      "mv suzuki16/MB12288/MOAR_MB12288.dat suzuki16/data &\n",
      "mv suzuki16/MB12355/MOAR_MB12355.dat suzuki16/data &\n",
      "mv suzuki16/MB12505/MOAR_MB12505.dat suzuki16/data &\n",
      "mv suzuki16/MB12527/MOAR_MB12527.dat suzuki16/data &\n"
     ]
    }
   ],
   "source": [
    "for name in list_data:\n",
    "#     command = f\"mv suzuki16/{name}/MOAR_{name}.dat suzuki16/data &\"\n",
    "    command = f\"ls suzuki16/data/MOAR_{name}.dat \"\n",
    "    print(command)"
   ]
  },
  {
   "cell_type": "code",
   "execution_count": null,
   "id": "532cbf18",
   "metadata": {},
   "outputs": [],
   "source": []
  }
 ],
 "metadata": {
  "kernelspec": {
   "display_name": "Python 3 (ipykernel)",
   "language": "python",
   "name": "python3"
  },
  "language_info": {
   "codemirror_mode": {
    "name": "ipython",
    "version": 3
   },
   "file_extension": ".py",
   "mimetype": "text/x-python",
   "name": "python",
   "nbconvert_exporter": "python",
   "pygments_lexer": "ipython3",
   "version": "3.9.13"
  }
 },
 "nbformat": 4,
 "nbformat_minor": 5
}
