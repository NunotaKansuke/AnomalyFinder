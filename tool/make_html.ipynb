{
 "cells": [
  {
   "cell_type": "code",
   "execution_count": 1,
   "id": "55cd9330",
   "metadata": {},
   "outputs": [],
   "source": [
    "import numpy as np"
   ]
  },
  {
   "cell_type": "code",
   "execution_count": 2,
   "id": "ec10d03b",
   "metadata": {},
   "outputs": [],
   "source": [
    "list_path = \"../suzuki16/list\"\n",
    "names = np.genfromtxt(list_path,dtype=str)"
   ]
  },
  {
   "cell_type": "code",
   "execution_count": 3,
   "id": "be791d80",
   "metadata": {},
   "outputs": [],
   "source": [
    "for name,i in zip(names,range(len(names))):\n",
    "    im_path = f\"../images_norm/\"\n",
    "\n",
    "    with open(f'/Users/nunotahiroshisuke/Desktop/iral/work/AnomalyFinder/suzuki16/html_norm/{name}.html', 'w') as f:\n",
    "        f.write('<html>\\n')\n",
    "        f.write('<head>\\n')\n",
    "        f.write('    <title>Anomaly Find Result</title>\\n')\n",
    "        f.write('    <style>\\n')\n",
    "        f.write('        .container {\\n')\n",
    "        f.write('            display: flex;\\n')\n",
    "        f.write('        }\\n')\n",
    "        f.write('        .image {\\n')\n",
    "        f.write('            margin-right: 10px; /* 画像の間隔を設定 */\\n')\n",
    "        f.write('        }\\n')\n",
    "        f.write('    </style>\\n')\n",
    "        f.write('</head>\\n')\n",
    "        f.write('<body>\\n')\n",
    "        f.write(f'<h1>{name}</h1>\\n')\n",
    "        \n",
    "        f.write('    <div style=\"text-align: left;\">\\n')\n",
    "        f.write('        <a href=\"./main.html\">home</a>\\n')\n",
    "        f.write('    </div>\\n')\n",
    "        f.write('    <div style=\"text-align: center;\">\\n')\n",
    "        \n",
    "#         f.write(f'<p>{name}</p>\\n')\n",
    "        f.write('<div class=\"container\">\\n')\n",
    "        f.write('    <div class=\"image\">\\n')\n",
    "        f.write(f'        <img src=\"{im_path}{name}_residual.png\" alt=\"Image 1\">\\n')\n",
    "        f.write('    </div>\\n')\n",
    "        f.write('</div>\\n')\n",
    "        f.write('\\n')\n",
    "        f.write('    <div class=\"image\">\\n')\n",
    "        f.write(f'        <img src=\"{im_path}{name}_grid.png\" alt=\"Image 1\">\\n')\n",
    "        f.write('    </div>\\n')\n",
    "        f.write('</div>\\n')\n",
    "        f.write('\\n')\n",
    "        f.write('<div class=\"container\">\\n')\n",
    "        f.write('    <div class=\"image\">\\n')\n",
    "        f.write(f'        <img src=\"{im_path}{name}_flat.png\" alt=\"Image 1\">\\n')\n",
    "        f.write('    </div>\\n')\n",
    "        f.write('    <div class=\"image\">\\n')\n",
    "        f.write(f'        <img src=\"{im_path}{name}_zero.png\" alt=\"Image 1\">\\n')\n",
    "        f.write('    </div>\\n')\n",
    "        f.write('</div>\\n')\n",
    "        f.write('\\n')\n",
    "        if i == 0:\n",
    "            f.write(f'<a href=\"./{names[len(names)-1]}.html\">{names[len(names)-1]}</a> | <a href=\"./{names[i+1]}.html\">{names[i+1]}</a></div>\\n')\n",
    "        elif i == len(names)-1:\n",
    "            f.write(f'<a href=\"./{names[i-1]}.html\">{names[i-1]}</a> | <a href=\"./{names[0]}.html\">{names[0]}</a></div>\\n')\n",
    "        else:\n",
    "            f.write(f'<a href=\"./{names[i-1]}.html\">{names[i-1]}</a> | <a href=\"./{names[i+1]}.html\">{names[i+1]}</a></div>\\n')\n",
    "        f.write('</body>\\n')\n",
    "        f.write('</html>\\n')"
   ]
  },
  {
   "cell_type": "code",
   "execution_count": 4,
   "id": "5802969d",
   "metadata": {},
   "outputs": [],
   "source": [
    "with open(f'/Users/nunotahiroshisuke/Desktop/iral/work/AnomalyFinder/suzuki16/html_norm/main.html', 'w') as f:\n",
    "    f.write('<html lang=\"ja\">\\n')\n",
    "    f.write('<head>\\n')\n",
    "    f.write('    <meta charset=\"UTF-8\">\\n')\n",
    "    f.write('    <meta name=\"viewport\" content=\"width=device-width, initial-scale=1.0\">\\n')\n",
    "    f.write('    <title>Anomaly FInder Result</title>\\n')\n",
    "    f.write('</head>\\n')\n",
    "    f.write('<body>\\n')\n",
    "    f.write('    <h1>Event List</h1>\\n')\n",
    "    f.write('    <ul>\\n')\n",
    "    \n",
    "    for name in names:\n",
    "        f.write(f'        <li><a href=\"{name}.html\">{name}</a></li>\\n')\n",
    "        \n",
    "    f.write('    </ul>\\n')\n",
    "    f.write('</body>\\n')\n",
    "    f.write('</html>\\n')"
   ]
  },
  {
   "cell_type": "code",
   "execution_count": null,
   "id": "94c3090b",
   "metadata": {},
   "outputs": [],
   "source": []
  }
 ],
 "metadata": {
  "kernelspec": {
   "display_name": "Python 3 (ipykernel)",
   "language": "python",
   "name": "python3"
  },
  "language_info": {
   "codemirror_mode": {
    "name": "ipython",
    "version": 3
   },
   "file_extension": ".py",
   "mimetype": "text/x-python",
   "name": "python",
   "nbconvert_exporter": "python",
   "pygments_lexer": "ipython3",
   "version": "3.9.13"
  }
 },
 "nbformat": 4,
 "nbformat_minor": 5
}
